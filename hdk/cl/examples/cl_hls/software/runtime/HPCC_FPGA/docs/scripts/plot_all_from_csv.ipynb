{
 "metadata": {
  "language_info": {
   "codemirror_mode": {
    "name": "ipython",
    "version": 3
   },
   "file_extension": ".py",
   "mimetype": "text/x-python",
   "name": "python",
   "nbconvert_exporter": "python",
   "pygments_lexer": "ipython3",
   "version": "3.7.3-final"
  },
  "orig_nbformat": 2,
  "kernelspec": {
   "name": "Python 3.7.3 64-bit ('.venv': venv)",
   "display_name": "Python 3.7.3 64-bit ('.venv': venv)",
   "metadata": {
    "interpreter": {
     "hash": "b1a76483506898705b78cb0b62bf68a9feb14342414b0f5b675fb7d2d04fec21"
    }
   }
  }
 },
 "nbformat": 4,
 "nbformat_minor": 2,
 "cells": [
  {
   "source": [
    "# Test parsing CSVs to nice plots\n",
    "\n",
    "This script loads the CSV result files of the STREAM benchmark and creates a polar plot out of it"
   ],
   "cell_type": "markdown",
   "metadata": {}
  },
  {
   "cell_type": "code",
   "execution_count": null,
   "metadata": {
    "tags": []
   },
   "outputs": [],
   "source": [
    "# Import required modules\n",
    "import pandas as pd\n",
    "import matplotlib.pyplot as plt\n",
    "import math"
   ]
  },
  {
   "cell_type": "code",
   "execution_count": null,
   "metadata": {},
   "outputs": [],
   "source": [
    "# read in the CSV file\n",
    "df = pd.read_csv(\"../source/STREAM/results/STREAM-2-3.csv\", header=[0,2,3,4], index_col=0)\n",
    "df = df.set_index(\"STREAM \" + df.index)\n",
    "df_add = pd.read_csv(\"../source/FFT/results/FFT-1-1.csv\", header=[0,2,3,4], index_col=0)\n",
    "df_add = df_add.set_index(\"FFT \" + df_add.index)\n",
    "df = df.append(df_add)\n",
    "df_add = pd.read_csv(\"../source/GEMM/results/GEMM-1-0.csv\", header=[0,2,3,4], index_col=0)\n",
    "df_add = df_add.set_index(\"GEMM \" + df_add.index)\n",
    "df = df.append(df_add)\n",
    "df_add = pd.read_csv(\"../source/RandomAccess/results/randomaccess-2-2.csv\", header=[0,2,3,4], index_col=0)\n",
    "df_add = df_add.set_index(\"RA \" + df_add.index)\n",
    "df = df.append(df_add)\n",
    "df"
   ]
  },
  {
   "cell_type": "code",
   "execution_count": null,
   "metadata": {},
   "outputs": [],
   "source": [
    "# Define the relevant metrics of the benchmark that should be plotted\n",
    "metrics = [\"STREAM Copy\", \"STREAM Add\", \"STREAM Scale\", \"STREAM Triad\", \"STREAM PCIe Read\", \"STREAM PCIe Write\", \"RA MUOPs\", \"FFT GFLOPs\", \"GEMM GFLOPs\"]\n",
    "\n",
    "# Select the required metrics and the used memory type for further processing\n",
    "df_relevant = df.T[metrics]\n",
    "\n",
    "# Set the PCIe values to 0 for every result that used SVM to prevent weirdly shaped plots\n",
    "df_relevant.loc[(slice(None), 'SVM',slice(None),slice(None)), [\"STREAM PCIe Read\", \"STREAM PCIe Write\"]] = \"0.0\"\n",
    "\n",
    "# convert all metrics to float and normalize them\n",
    "for m in metrics:\n",
    "    df_relevant[m] = df_relevant[m].astype(float) \n",
    "    df_relevant[m] = df_relevant[m] / df_relevant[m].max()\n",
    "df_relevant"
   ]
  },
  {
   "cell_type": "code",
   "execution_count": null,
   "metadata": {
    "tags": []
   },
   "outputs": [],
   "source": [
    "\n",
    "# Define some colors and line styles that should be used for plotting the data\n",
    "#colors = [\"aqua\", \"royalblue\"]\n",
    "linestyles = [\"solid\", \"dashed\", \"dashdot\", \"dotted\"]\n",
    " \n",
    "# Calculate the used angle in the polar plot for the different metrics\n",
    "angles = [n / float(len(df_relevant.T.index)) * 2 * math.pi for n in range(len(df_relevant.T.index))]\n",
    "angles += angles[:1]\n",
    " \n",
    "# Initialise the polar plot\n",
    "fig = plt.figure(figsize=(8,4))\n",
    "ax = fig.add_subplot(1,1,1, projection=\"polar\")\n",
    "ax.spines['polar'].set_visible(False)\n",
    "\n",
    "# Draw one axe per variable and add the labels on x and y axis\n",
    "plt.xticks(angles[:-1], metrics, color='black', size=10, horizontalalignment=\"left\")\n",
    "t = ax.xaxis.get_major_ticks()\n",
    "for td in t[3:7]:\n",
    "    td.label1.set_horizontalalignment(\"right\")\n",
    "\n",
    "plt.yticks([(i + 1) / float(5) for i in range(5)], [\"\" for i in range(5)])\n",
    " \n",
    "# Iterate over measurements and add them to the plot\n",
    "for i, dev in enumerate(df_relevant.index):\n",
    "    row = df_relevant[metrics].T[dev].values.tolist()\n",
    "    row += row[:1]\n",
    "    # Plot data and puck the color and line style accordingly using a round-robin scheme\n",
    "    ax.plot(angles, row, linewidth=1.5, linestyle=linestyles[int(i / 5) % len(linestyles)], \n",
    "            label=\"%s %s\" % dev[:2])\n",
    "\n",
    "# Print the legend outside of the radar plot\n",
    "ax.legend(loc=\"center left\", bbox_to_anchor=(1.3,0.8))\n",
    "fig.tight_layout()\n",
    "\n",
    "# Store the plot as JPEG on the disk\n",
    "fig.savefig(\"../source/overall_results.png\")"
   ]
  },
  {
   "cell_type": "code",
   "execution_count": null,
   "metadata": {},
   "outputs": [],
   "source": []
  }
 ]
}